{
 "cells": [
  {
   "cell_type": "markdown",
   "metadata": {},
   "source": [
    "# This notebook is for fairness and diversity validation for our ADS"
   ]
  },
  {
   "cell_type": "markdown",
   "metadata": {},
   "source": [
    "## Fairness validation\n",
    "- Focus on the group fairness validation considering sensitive attribute gender, age and whether-smoking.\n",
    "- Group fairness methodology includes 3 measures proposed in [Measuring Fairness in Ranked Outputs](https://arxiv.org/abs/1610.08559).\n",
    "- Validation is done on different groups defined by above sensitive attributes.\n",
    "- We also validate the cross impact between multiple sensitive attributes."
   ]
  },
  {
   "cell_type": "code",
   "execution_count": null,
   "metadata": {},
   "outputs": [],
   "source": []
  },
  {
   "cell_type": "markdown",
   "metadata": {},
   "source": [
    "## Diversity\n",
    "- Diversity component shows the representation of different groups defined by the above sensitve attributes.\n",
    "- We show the representations for top-10 and over-all results."
   ]
  },
  {
   "cell_type": "code",
   "execution_count": null,
   "metadata": {},
   "outputs": [],
   "source": []
  }
 ],
 "metadata": {
  "kernelspec": {
   "display_name": "Python 3",
   "language": "python",
   "name": "python3"
  },
  "language_info": {
   "codemirror_mode": {
    "name": "ipython",
    "version": 3
   },
   "file_extension": ".py",
   "mimetype": "text/x-python",
   "name": "python",
   "nbconvert_exporter": "python",
   "pygments_lexer": "ipython3",
   "version": "3.6.8"
  }
 },
 "nbformat": 4,
 "nbformat_minor": 2
}
